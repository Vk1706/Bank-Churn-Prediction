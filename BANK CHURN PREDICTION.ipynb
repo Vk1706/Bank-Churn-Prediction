{
 "cells": [
  {
   "cell_type": "markdown",
   "id": "ac8bb920",
   "metadata": {},
   "source": [
    "# IMPORTING THE LIBRARY"
   ]
  },
  {
   "cell_type": "code",
   "execution_count": 201,
   "id": "0bf3df2c",
   "metadata": {},
   "outputs": [],
   "source": [
    "import pandas as pd\n",
    "import numpy as np\n",
    "import seaborn as sns\n",
    "import matplotlib.pyplot as plt\n",
    "\n"
   ]
  },
  {
   "cell_type": "markdown",
   "id": "b1367cc8",
   "metadata": {},
   "source": [
    "# IMPORTING THE DATA "
   ]
  },
  {
   "cell_type": "code",
   "execution_count": 202,
   "id": "37707180",
   "metadata": {},
   "outputs": [],
   "source": [
    "df=pd.read_csv(\"Churn_Modelling.csv\")"
   ]
  },
  {
   "cell_type": "markdown",
   "id": "6c3058c2",
   "metadata": {},
   "source": [
    "# DATA PREPROCESSING"
   ]
  },
  {
   "cell_type": "code",
   "execution_count": 203,
   "id": "e1e6b3a5",
   "metadata": {},
   "outputs": [
    {
     "data": {
      "text/html": [
       "<div>\n",
       "<style scoped>\n",
       "    .dataframe tbody tr th:only-of-type {\n",
       "        vertical-align: middle;\n",
       "    }\n",
       "\n",
       "    .dataframe tbody tr th {\n",
       "        vertical-align: top;\n",
       "    }\n",
       "\n",
       "    .dataframe thead th {\n",
       "        text-align: right;\n",
       "    }\n",
       "</style>\n",
       "<table border=\"1\" class=\"dataframe\">\n",
       "  <thead>\n",
       "    <tr style=\"text-align: right;\">\n",
       "      <th></th>\n",
       "      <th>RowNumber</th>\n",
       "      <th>CustomerId</th>\n",
       "      <th>Surname</th>\n",
       "      <th>CreditScore</th>\n",
       "      <th>Geography</th>\n",
       "      <th>Gender</th>\n",
       "      <th>Age</th>\n",
       "      <th>Tenure</th>\n",
       "      <th>Balance</th>\n",
       "      <th>NumOfProducts</th>\n",
       "      <th>HasCrCard</th>\n",
       "      <th>IsActiveMember</th>\n",
       "      <th>EstimatedSalary</th>\n",
       "      <th>Exited</th>\n",
       "    </tr>\n",
       "  </thead>\n",
       "  <tbody>\n",
       "    <tr>\n",
       "      <th>0</th>\n",
       "      <td>1</td>\n",
       "      <td>15634602</td>\n",
       "      <td>Hargrave</td>\n",
       "      <td>619</td>\n",
       "      <td>France</td>\n",
       "      <td>Female</td>\n",
       "      <td>42</td>\n",
       "      <td>2</td>\n",
       "      <td>0.00</td>\n",
       "      <td>1</td>\n",
       "      <td>1</td>\n",
       "      <td>1</td>\n",
       "      <td>101348.88</td>\n",
       "      <td>1</td>\n",
       "    </tr>\n",
       "    <tr>\n",
       "      <th>1</th>\n",
       "      <td>2</td>\n",
       "      <td>15647311</td>\n",
       "      <td>Hill</td>\n",
       "      <td>608</td>\n",
       "      <td>Spain</td>\n",
       "      <td>Female</td>\n",
       "      <td>41</td>\n",
       "      <td>1</td>\n",
       "      <td>83807.86</td>\n",
       "      <td>1</td>\n",
       "      <td>0</td>\n",
       "      <td>1</td>\n",
       "      <td>112542.58</td>\n",
       "      <td>0</td>\n",
       "    </tr>\n",
       "    <tr>\n",
       "      <th>2</th>\n",
       "      <td>3</td>\n",
       "      <td>15619304</td>\n",
       "      <td>Onio</td>\n",
       "      <td>502</td>\n",
       "      <td>France</td>\n",
       "      <td>Female</td>\n",
       "      <td>42</td>\n",
       "      <td>8</td>\n",
       "      <td>159660.80</td>\n",
       "      <td>3</td>\n",
       "      <td>1</td>\n",
       "      <td>0</td>\n",
       "      <td>113931.57</td>\n",
       "      <td>1</td>\n",
       "    </tr>\n",
       "    <tr>\n",
       "      <th>3</th>\n",
       "      <td>4</td>\n",
       "      <td>15701354</td>\n",
       "      <td>Boni</td>\n",
       "      <td>699</td>\n",
       "      <td>France</td>\n",
       "      <td>Female</td>\n",
       "      <td>39</td>\n",
       "      <td>1</td>\n",
       "      <td>0.00</td>\n",
       "      <td>2</td>\n",
       "      <td>0</td>\n",
       "      <td>0</td>\n",
       "      <td>93826.63</td>\n",
       "      <td>0</td>\n",
       "    </tr>\n",
       "    <tr>\n",
       "      <th>4</th>\n",
       "      <td>5</td>\n",
       "      <td>15737888</td>\n",
       "      <td>Mitchell</td>\n",
       "      <td>850</td>\n",
       "      <td>Spain</td>\n",
       "      <td>Female</td>\n",
       "      <td>43</td>\n",
       "      <td>2</td>\n",
       "      <td>125510.82</td>\n",
       "      <td>1</td>\n",
       "      <td>1</td>\n",
       "      <td>1</td>\n",
       "      <td>79084.10</td>\n",
       "      <td>0</td>\n",
       "    </tr>\n",
       "  </tbody>\n",
       "</table>\n",
       "</div>"
      ],
      "text/plain": [
       "   RowNumber  CustomerId   Surname  CreditScore Geography  Gender  Age  \\\n",
       "0          1    15634602  Hargrave          619    France  Female   42   \n",
       "1          2    15647311      Hill          608     Spain  Female   41   \n",
       "2          3    15619304      Onio          502    France  Female   42   \n",
       "3          4    15701354      Boni          699    France  Female   39   \n",
       "4          5    15737888  Mitchell          850     Spain  Female   43   \n",
       "\n",
       "   Tenure    Balance  NumOfProducts  HasCrCard  IsActiveMember  \\\n",
       "0       2       0.00              1          1               1   \n",
       "1       1   83807.86              1          0               1   \n",
       "2       8  159660.80              3          1               0   \n",
       "3       1       0.00              2          0               0   \n",
       "4       2  125510.82              1          1               1   \n",
       "\n",
       "   EstimatedSalary  Exited  \n",
       "0        101348.88       1  \n",
       "1        112542.58       0  \n",
       "2        113931.57       1  \n",
       "3         93826.63       0  \n",
       "4         79084.10       0  "
      ]
     },
     "execution_count": 203,
     "metadata": {},
     "output_type": "execute_result"
    }
   ],
   "source": [
    "df.head()"
   ]
  },
  {
   "cell_type": "code",
   "execution_count": 204,
   "id": "f3f439c6",
   "metadata": {},
   "outputs": [
    {
     "data": {
      "text/plain": [
       "(10000, 14)"
      ]
     },
     "execution_count": 204,
     "metadata": {},
     "output_type": "execute_result"
    }
   ],
   "source": [
    "df.shape"
   ]
  },
  {
   "cell_type": "code",
   "execution_count": 205,
   "id": "28956310",
   "metadata": {},
   "outputs": [
    {
     "name": "stdout",
     "output_type": "stream",
     "text": [
      "<class 'pandas.core.frame.DataFrame'>\n",
      "RangeIndex: 10000 entries, 0 to 9999\n",
      "Data columns (total 14 columns):\n",
      " #   Column           Non-Null Count  Dtype  \n",
      "---  ------           --------------  -----  \n",
      " 0   RowNumber        10000 non-null  int64  \n",
      " 1   CustomerId       10000 non-null  int64  \n",
      " 2   Surname          10000 non-null  object \n",
      " 3   CreditScore      10000 non-null  int64  \n",
      " 4   Geography        10000 non-null  object \n",
      " 5   Gender           10000 non-null  object \n",
      " 6   Age              10000 non-null  int64  \n",
      " 7   Tenure           10000 non-null  int64  \n",
      " 8   Balance          10000 non-null  float64\n",
      " 9   NumOfProducts    10000 non-null  int64  \n",
      " 10  HasCrCard        10000 non-null  int64  \n",
      " 11  IsActiveMember   10000 non-null  int64  \n",
      " 12  EstimatedSalary  10000 non-null  float64\n",
      " 13  Exited           10000 non-null  int64  \n",
      "dtypes: float64(2), int64(9), object(3)\n",
      "memory usage: 1.1+ MB\n"
     ]
    }
   ],
   "source": [
    "df.info()"
   ]
  },
  {
   "cell_type": "code",
   "execution_count": 206,
   "id": "3f9b6c05",
   "metadata": {},
   "outputs": [
    {
     "data": {
      "text/plain": [
       "RowNumber          10000\n",
       "CustomerId         10000\n",
       "Surname             2932\n",
       "CreditScore          460\n",
       "Geography              3\n",
       "Gender                 2\n",
       "Age                   70\n",
       "Tenure                11\n",
       "Balance             6382\n",
       "NumOfProducts          4\n",
       "HasCrCard              2\n",
       "IsActiveMember         2\n",
       "EstimatedSalary     9999\n",
       "Exited                 2\n",
       "dtype: int64"
      ]
     },
     "execution_count": 206,
     "metadata": {},
     "output_type": "execute_result"
    }
   ],
   "source": [
    "df.nunique()"
   ]
  },
  {
   "cell_type": "code",
   "execution_count": 207,
   "id": "5b7b5c55",
   "metadata": {},
   "outputs": [
    {
     "data": {
      "text/plain": [
       "RowNumber          0\n",
       "CustomerId         0\n",
       "Surname            0\n",
       "CreditScore        0\n",
       "Geography          0\n",
       "Gender             0\n",
       "Age                0\n",
       "Tenure             0\n",
       "Balance            0\n",
       "NumOfProducts      0\n",
       "HasCrCard          0\n",
       "IsActiveMember     0\n",
       "EstimatedSalary    0\n",
       "Exited             0\n",
       "dtype: int64"
      ]
     },
     "execution_count": 207,
     "metadata": {},
     "output_type": "execute_result"
    }
   ],
   "source": [
    "df.isnull().sum()"
   ]
  },
  {
   "cell_type": "code",
   "execution_count": 208,
   "id": "bbecef92",
   "metadata": {},
   "outputs": [
    {
     "data": {
      "text/plain": [
       "France     5014\n",
       "Germany    2509\n",
       "Spain      2477\n",
       "Name: Geography, dtype: int64"
      ]
     },
     "execution_count": 208,
     "metadata": {},
     "output_type": "execute_result"
    }
   ],
   "source": [
    "df[\"Geography\"].value_counts()"
   ]
  },
  {
   "cell_type": "code",
   "execution_count": 209,
   "id": "caf9373d",
   "metadata": {},
   "outputs": [
    {
     "data": {
      "text/plain": [
       "0    7963\n",
       "1    2037\n",
       "Name: Exited, dtype: int64"
      ]
     },
     "execution_count": 209,
     "metadata": {},
     "output_type": "execute_result"
    }
   ],
   "source": [
    "df[\"Exited\"].value_counts()"
   ]
  },
  {
   "cell_type": "code",
   "execution_count": 210,
   "id": "21d5431f",
   "metadata": {},
   "outputs": [
    {
     "data": {
      "text/plain": [
       "Index(['RowNumber', 'CustomerId', 'Surname', 'CreditScore', 'Geography',\n",
       "       'Gender', 'Age', 'Tenure', 'Balance', 'NumOfProducts', 'HasCrCard',\n",
       "       'IsActiveMember', 'EstimatedSalary', 'Exited'],\n",
       "      dtype='object')"
      ]
     },
     "execution_count": 210,
     "metadata": {},
     "output_type": "execute_result"
    }
   ],
   "source": [
    "df.columns"
   ]
  },
  {
   "cell_type": "markdown",
   "id": "349fa755",
   "metadata": {},
   "source": [
    "# DATA VISUALIZATION"
   ]
  },
  {
   "cell_type": "code",
   "execution_count": 211,
   "id": "ba58dab8",
   "metadata": {},
   "outputs": [
    {
     "data": {
      "text/plain": [
       "<AxesSubplot:>"
      ]
     },
     "execution_count": 211,
     "metadata": {},
     "output_type": "execute_result"
    },
    {
     "data": {
      "image/png": "[encoded data removed]",
      "text/plain": [
       "<Figure size 1440x1080 with 2 Axes>"
      ]
     },
     "metadata": {
      "needs_background": "light"
     },
     "output_type": "display_data"
    }
   ],
   "source": [
    "df.corr()\n",
    "plt.subplots(figsize=(20,15))\n",
    "sns.heatmap(df.corr(),cmap=\"YlGnBu\",annot=True,linewidths=10)"
   ]
  },
  {
   "cell_type": "code",
   "execution_count": 215,
   "id": "5fa107fc",
   "metadata": {},
   "outputs": [],
   "source": [
    "feature_list = ['Geography', 'Gender', 'Tenure', 'NumOfProducts', 'HasCrCard', 'IsActiveMember']"
   ]
  },
  {
   "cell_type": "code",
   "execution_count": 216,
   "id": "4c0062f5",
   "metadata": {},
   "outputs": [
    {
     "data": {
      "image/png": "[encoded data removed]",
      "text/plain": [
       "<Figure size 504x360 with 1 Axes>"
      ]
     },
     "metadata": {
      "needs_background": "light"
     },
     "output_type": "display_data"
    },
    {
     "data": {
      "image/png": "[encoded data removed]",
      "text/plain": [
       "<Figure size 504x360 with 1 Axes>"
      ]
     },
     "metadata": {
      "needs_background": "light"
     },
     "output_type": "display_data"
    },
    {
     "data": {
      "image/png": "[encoded data removed]",
      "text/plain": [
       "<Figure size 504x360 with 1 Axes>"
      ]
     },
     "metadata": {
      "needs_background": "light"
     },
     "output_type": "display_data"
    },
    {
     "data": {
      "image/png": "[encoded data removed]",
      "text/plain": [
       "<Figure size 504x360 with 1 Axes>"
      ]
     },
     "metadata": {
      "needs_background": "light"
     },
     "output_type": "display_data"
    },
    {
     "data": {
      "image/png": "[encoded data removed]",
      "text/plain": [
       "<Figure size 504x360 with 1 Axes>"
      ]
     },
     "metadata": {
      "needs_background": "light"
     },
     "output_type": "display_data"
    },
    {
     "data": {
      "image/png": "[encoded data removed]",
      "text/plain": [
       "<Figure size 504x360 with 1 Axes>"
      ]
     },
     "metadata": {
      "needs_background": "light"
     },
     "output_type": "display_data"
    }
   ],
   "source": [
    "for feature in feature_list:\n",
    "    plt.figure(figsize=(7,5))\n",
    "    plt.title(feature)\n",
    "    ax=sns.countplot(x=feature, hue='Exited', data=df, palette=['green', 'red'])\n",
    "    \n",
    "    for container in ax.containers:\n",
    "        ax.bar_label(container)"
   ]
  },
  {
   "cell_type": "code",
   "execution_count": 214,
   "id": "691fb2e8",
   "metadata": {},
   "outputs": [
    {
     "data": {
      "image/png": "[encoded data removed]",
      "text/plain": [
       "<Figure size 432x360 with 1 Axes>"
      ]
     },
     "metadata": {
      "needs_background": "light"
     },
     "output_type": "display_data"
    }
   ],
   "source": [
    "fig = plt.figure(figsize=(6, 5))\n",
    "ax = sns.barplot(x=df['Gender'],y=df['EstimatedSalary'], \n",
    "                 palette='rainbow')\n",
    "plt.ylabel('EstimatedSalary');"
   ]
  },
  {
   "cell_type": "code",
   "execution_count": 213,
   "id": "401d277a",
   "metadata": {},
   "outputs": [
    {
     "data": {
      "image/png": "[encoded data removed]",
      "text/plain": [
       "<Figure size 432x360 with 1 Axes>"
      ]
     },
     "metadata": {
      "needs_background": "light"
     },
     "output_type": "display_data"
    }
   ],
   "source": [
    "fig = plt.figure(figsize=(6, 5))\n",
    "ax = sns.barplot(x=df['Geography'].sort_values(ascending=True), \n",
    "                 y=df['Balance'], \n",
    "                 palette='rainbow',\n",
    "                 ci = None)\n",
    "plt.ylabel('Balance');"
   ]
  },
  {
   "cell_type": "code",
   "execution_count": 144,
   "id": "70ade451",
   "metadata": {},
   "outputs": [],
   "source": [
    "columns_to_remove=['RowNumber','CustomerId','Surname']"
   ]
  },
  {
   "cell_type": "code",
   "execution_count": 145,
   "id": "6b2606a2",
   "metadata": {},
   "outputs": [],
   "source": [
    "df=df.drop(columns_to_remove,axis=1)"
   ]
  },
  {
   "cell_type": "code",
   "execution_count": 146,
   "id": "0b7a1756",
   "metadata": {},
   "outputs": [
    {
     "data": {
      "text/plain": [
       "(10000, 11)"
      ]
     },
     "execution_count": 146,
     "metadata": {},
     "output_type": "execute_result"
    }
   ],
   "source": [
    "df.shape"
   ]
  },
  {
   "cell_type": "code",
   "execution_count": 147,
   "id": "d305fe21",
   "metadata": {},
   "outputs": [],
   "source": [
    "states=pd.get_dummies(df['Geography'],drop_first=True)\n",
    "gender=pd.get_dummies(df['Gender'],drop_first=True)"
   ]
  },
  {
   "cell_type": "code",
   "execution_count": 148,
   "id": "3bfc0587",
   "metadata": {},
   "outputs": [],
   "source": [
    "df=pd.concat([df,states,gender],axis=1)"
   ]
  },
  {
   "cell_type": "code",
   "execution_count": 149,
   "id": "0a4cba11",
   "metadata": {},
   "outputs": [],
   "source": [
    "df=df.drop(['Geography','Gender'],axis=1)"
   ]
  },
  {
   "cell_type": "code",
   "execution_count": 150,
   "id": "d79e5cb5",
   "metadata": {},
   "outputs": [
    {
     "data": {
      "text/html": [
       "<div>\n",
       "<style scoped>\n",
       "    .dataframe tbody tr th:only-of-type {\n",
       "        vertical-align: middle;\n",
       "    }\n",
       "\n",
       "    .dataframe tbody tr th {\n",
       "        vertical-align: top;\n",
       "    }\n",
       "\n",
       "    .dataframe thead th {\n",
       "        text-align: right;\n",
       "    }\n",
       "</style>\n",
       "<table border=\"1\" class=\"dataframe\">\n",
       "  <thead>\n",
       "    <tr style=\"text-align: right;\">\n",
       "      <th></th>\n",
       "      <th>CreditScore</th>\n",
       "      <th>Age</th>\n",
       "      <th>Tenure</th>\n",
       "      <th>Balance</th>\n",
       "      <th>NumOfProducts</th>\n",
       "      <th>HasCrCard</th>\n",
       "      <th>IsActiveMember</th>\n",
       "      <th>EstimatedSalary</th>\n",
       "      <th>Exited</th>\n",
       "      <th>Germany</th>\n",
       "      <th>Spain</th>\n",
       "      <th>Male</th>\n",
       "    </tr>\n",
       "  </thead>\n",
       "  <tbody>\n",
       "    <tr>\n",
       "      <th>0</th>\n",
       "      <td>619</td>\n",
       "      <td>42</td>\n",
       "      <td>2</td>\n",
       "      <td>0.00</td>\n",
       "      <td>1</td>\n",
       "      <td>1</td>\n",
       "      <td>1</td>\n",
       "      <td>101348.88</td>\n",
       "      <td>1</td>\n",
       "      <td>0</td>\n",
       "      <td>0</td>\n",
       "      <td>0</td>\n",
       "    </tr>\n",
       "    <tr>\n",
       "      <th>1</th>\n",
       "      <td>608</td>\n",
       "      <td>41</td>\n",
       "      <td>1</td>\n",
       "      <td>83807.86</td>\n",
       "      <td>1</td>\n",
       "      <td>0</td>\n",
       "      <td>1</td>\n",
       "      <td>112542.58</td>\n",
       "      <td>0</td>\n",
       "      <td>0</td>\n",
       "      <td>1</td>\n",
       "      <td>0</td>\n",
       "    </tr>\n",
       "    <tr>\n",
       "      <th>2</th>\n",
       "      <td>502</td>\n",
       "      <td>42</td>\n",
       "      <td>8</td>\n",
       "      <td>159660.80</td>\n",
       "      <td>3</td>\n",
       "      <td>1</td>\n",
       "      <td>0</td>\n",
       "      <td>113931.57</td>\n",
       "      <td>1</td>\n",
       "      <td>0</td>\n",
       "      <td>0</td>\n",
       "      <td>0</td>\n",
       "    </tr>\n",
       "    <tr>\n",
       "      <th>3</th>\n",
       "      <td>699</td>\n",
       "      <td>39</td>\n",
       "      <td>1</td>\n",
       "      <td>0.00</td>\n",
       "      <td>2</td>\n",
       "      <td>0</td>\n",
       "      <td>0</td>\n",
       "      <td>93826.63</td>\n",
       "      <td>0</td>\n",
       "      <td>0</td>\n",
       "      <td>0</td>\n",
       "      <td>0</td>\n",
       "    </tr>\n",
       "    <tr>\n",
       "      <th>4</th>\n",
       "      <td>850</td>\n",
       "      <td>43</td>\n",
       "      <td>2</td>\n",
       "      <td>125510.82</td>\n",
       "      <td>1</td>\n",
       "      <td>1</td>\n",
       "      <td>1</td>\n",
       "      <td>79084.10</td>\n",
       "      <td>0</td>\n",
       "      <td>0</td>\n",
       "      <td>1</td>\n",
       "      <td>0</td>\n",
       "    </tr>\n",
       "  </tbody>\n",
       "</table>\n",
       "</div>"
      ],
      "text/plain": [
       "   CreditScore  Age  Tenure    Balance  NumOfProducts  HasCrCard  \\\n",
       "0          619   42       2       0.00              1          1   \n",
       "1          608   41       1   83807.86              1          0   \n",
       "2          502   42       8  159660.80              3          1   \n",
       "3          699   39       1       0.00              2          0   \n",
       "4          850   43       2  125510.82              1          1   \n",
       "\n",
       "   IsActiveMember  EstimatedSalary  Exited  Germany  Spain  Male  \n",
       "0               1        101348.88       1        0      0     0  \n",
       "1               1        112542.58       0        0      1     0  \n",
       "2               0        113931.57       1        0      0     0  \n",
       "3               0         93826.63       0        0      0     0  \n",
       "4               1         79084.10       0        0      1     0  "
      ]
     },
     "execution_count": 150,
     "metadata": {},
     "output_type": "execute_result"
    }
   ],
   "source": [
    "df.head()"
   ]
  },
  {
   "cell_type": "code",
   "execution_count": 151,
   "id": "8794bb45",
   "metadata": {},
   "outputs": [
    {
     "data": {
      "text/plain": [
       "(10000, 12)"
      ]
     },
     "execution_count": 151,
     "metadata": {},
     "output_type": "execute_result"
    }
   ],
   "source": [
    "df.shape"
   ]
  },
  {
   "cell_type": "code",
   "execution_count": 152,
   "id": "6c0a115a",
   "metadata": {},
   "outputs": [
    {
     "name": "stderr",
     "output_type": "stream",
     "text": [
      "C:\\Users\\muska\\anaconda3\\lib\\site-packages\\seaborn\\_decorators.py:36: FutureWarning: Pass the following variable as a keyword arg: x. From version 0.12, the only valid positional argument will be `data`, and passing other arguments without an explicit keyword will result in an error or misinterpretation.\n",
      "  warnings.warn(\n"
     ]
    },
    {
     "data": {
      "text/plain": [
       "<AxesSubplot:xlabel='Exited', ylabel='count'>"
      ]
     },
     "execution_count": 152,
     "metadata": {},
     "output_type": "execute_result"
    },
    {
     "data": {
      "image/png": "[encoded data removed]",
      "text/plain": [
       "<Figure size 432x288 with 1 Axes>"
      ]
     },
     "metadata": {
      "needs_background": "light"
     },
     "output_type": "display_data"
    }
   ],
   "source": [
    "sns.countplot(df['Exited'])"
   ]
  },
  {
   "cell_type": "code",
   "execution_count": 153,
   "id": "300ed41c",
   "metadata": {},
   "outputs": [],
   "source": [
    "X=df.drop('Exited',axis=1)\n",
    "Y=df['Exited']"
   ]
  },
  {
   "cell_type": "code",
   "execution_count": 154,
   "id": "887550d6",
   "metadata": {},
   "outputs": [
    {
     "data": {
      "text/html": [
       "<div>\n",
       "<style scoped>\n",
       "    .dataframe tbody tr th:only-of-type {\n",
       "        vertical-align: middle;\n",
       "    }\n",
       "\n",
       "    .dataframe tbody tr th {\n",
       "        vertical-align: top;\n",
       "    }\n",
       "\n",
       "    .dataframe thead th {\n",
       "        text-align: right;\n",
       "    }\n",
       "</style>\n",
       "<table border=\"1\" class=\"dataframe\">\n",
       "  <thead>\n",
       "    <tr style=\"text-align: right;\">\n",
       "      <th></th>\n",
       "      <th>CreditScore</th>\n",
       "      <th>Age</th>\n",
       "      <th>Tenure</th>\n",
       "      <th>Balance</th>\n",
       "      <th>NumOfProducts</th>\n",
       "      <th>HasCrCard</th>\n",
       "      <th>IsActiveMember</th>\n",
       "      <th>EstimatedSalary</th>\n",
       "      <th>Germany</th>\n",
       "      <th>Spain</th>\n",
       "      <th>Male</th>\n",
       "    </tr>\n",
       "  </thead>\n",
       "  <tbody>\n",
       "    <tr>\n",
       "      <th>0</th>\n",
       "      <td>619</td>\n",
       "      <td>42</td>\n",
       "      <td>2</td>\n",
       "      <td>0.00</td>\n",
       "      <td>1</td>\n",
       "      <td>1</td>\n",
       "      <td>1</td>\n",
       "      <td>101348.88</td>\n",
       "      <td>0</td>\n",
       "      <td>0</td>\n",
       "      <td>0</td>\n",
       "    </tr>\n",
       "    <tr>\n",
       "      <th>1</th>\n",
       "      <td>608</td>\n",
       "      <td>41</td>\n",
       "      <td>1</td>\n",
       "      <td>83807.86</td>\n",
       "      <td>1</td>\n",
       "      <td>0</td>\n",
       "      <td>1</td>\n",
       "      <td>112542.58</td>\n",
       "      <td>0</td>\n",
       "      <td>1</td>\n",
       "      <td>0</td>\n",
       "    </tr>\n",
       "    <tr>\n",
       "      <th>2</th>\n",
       "      <td>502</td>\n",
       "      <td>42</td>\n",
       "      <td>8</td>\n",
       "      <td>159660.80</td>\n",
       "      <td>3</td>\n",
       "      <td>1</td>\n",
       "      <td>0</td>\n",
       "      <td>113931.57</td>\n",
       "      <td>0</td>\n",
       "      <td>0</td>\n",
       "      <td>0</td>\n",
       "    </tr>\n",
       "    <tr>\n",
       "      <th>3</th>\n",
       "      <td>699</td>\n",
       "      <td>39</td>\n",
       "      <td>1</td>\n",
       "      <td>0.00</td>\n",
       "      <td>2</td>\n",
       "      <td>0</td>\n",
       "      <td>0</td>\n",
       "      <td>93826.63</td>\n",
       "      <td>0</td>\n",
       "      <td>0</td>\n",
       "      <td>0</td>\n",
       "    </tr>\n",
       "    <tr>\n",
       "      <th>4</th>\n",
       "      <td>850</td>\n",
       "      <td>43</td>\n",
       "      <td>2</td>\n",
       "      <td>125510.82</td>\n",
       "      <td>1</td>\n",
       "      <td>1</td>\n",
       "      <td>1</td>\n",
       "      <td>79084.10</td>\n",
       "      <td>0</td>\n",
       "      <td>1</td>\n",
       "      <td>0</td>\n",
       "    </tr>\n",
       "  </tbody>\n",
       "</table>\n",
       "</div>"
      ],
      "text/plain": [
       "   CreditScore  Age  Tenure    Balance  NumOfProducts  HasCrCard  \\\n",
       "0          619   42       2       0.00              1          1   \n",
       "1          608   41       1   83807.86              1          0   \n",
       "2          502   42       8  159660.80              3          1   \n",
       "3          699   39       1       0.00              2          0   \n",
       "4          850   43       2  125510.82              1          1   \n",
       "\n",
       "   IsActiveMember  EstimatedSalary  Germany  Spain  Male  \n",
       "0               1        101348.88        0      0     0  \n",
       "1               1        112542.58        0      1     0  \n",
       "2               0        113931.57        0      0     0  \n",
       "3               0         93826.63        0      0     0  \n",
       "4               1         79084.10        0      1     0  "
      ]
     },
     "execution_count": 154,
     "metadata": {},
     "output_type": "execute_result"
    }
   ],
   "source": [
    "X.head()"
   ]
  },
  {
   "cell_type": "code",
   "execution_count": 155,
   "id": "c5ca1086",
   "metadata": {},
   "outputs": [
    {
     "data": {
      "text/plain": [
       "0    1\n",
       "1    0\n",
       "2    1\n",
       "3    0\n",
       "4    0\n",
       "Name: Exited, dtype: int64"
      ]
     },
     "execution_count": 155,
     "metadata": {},
     "output_type": "execute_result"
    }
   ],
   "source": [
    "Y.head()"
   ]
  },
  {
   "cell_type": "markdown",
   "id": "afa42215",
   "metadata": {},
   "source": [
    "# SPLITTING THE DATA INTO TRAIN SET AND TEST SET"
   ]
  },
  {
   "cell_type": "code",
   "execution_count": 156,
   "id": "af898cef",
   "metadata": {},
   "outputs": [],
   "source": [
    "from sklearn.model_selection import train_test_split "
   ]
  },
  {
   "cell_type": "code",
   "execution_count": 157,
   "id": "24547aab",
   "metadata": {},
   "outputs": [],
   "source": [
    "X_train,X_test,y_train,y_test=train_test_split(X,Y,test_size=0.3,random_state=7)"
   ]
  },
  {
   "cell_type": "code",
   "execution_count": 158,
   "id": "34e4cd28",
   "metadata": {},
   "outputs": [
    {
     "data": {
      "text/plain": [
       "(7000, 11)"
      ]
     },
     "execution_count": 158,
     "metadata": {},
     "output_type": "execute_result"
    }
   ],
   "source": [
    "X_train.shape"
   ]
  },
  {
   "cell_type": "code",
   "execution_count": 159,
   "id": "dc5a9cc1",
   "metadata": {},
   "outputs": [
    {
     "data": {
      "text/plain": [
       "(3000, 11)"
      ]
     },
     "execution_count": 159,
     "metadata": {},
     "output_type": "execute_result"
    }
   ],
   "source": [
    "X_test.shape"
   ]
  },
  {
   "cell_type": "code",
   "execution_count": 160,
   "id": "ba43c576",
   "metadata": {},
   "outputs": [
    {
     "data": {
      "text/plain": [
       "(7000,)"
      ]
     },
     "execution_count": 160,
     "metadata": {},
     "output_type": "execute_result"
    }
   ],
   "source": [
    "y_train.shape"
   ]
  },
  {
   "cell_type": "code",
   "execution_count": 161,
   "id": "cf9a473b",
   "metadata": {},
   "outputs": [
    {
     "data": {
      "text/plain": [
       "(3000,)"
      ]
     },
     "execution_count": 161,
     "metadata": {},
     "output_type": "execute_result"
    }
   ],
   "source": [
    "y_test.shape"
   ]
  },
  {
   "cell_type": "markdown",
   "id": "08facd99",
   "metadata": {},
   "source": [
    "# FEATURE SCALING"
   ]
  },
  {
   "cell_type": "code",
   "execution_count": 162,
   "id": "53d11eb9",
   "metadata": {},
   "outputs": [
    {
     "data": {
      "text/plain": [
       "array([[-0.21266528, -0.27558386, -1.0440425 , ..., -0.57691038,\n",
       "        -0.5780101 , -1.09035226],\n",
       "       [ 2.07282937, -0.08573178, -0.69981484, ...,  1.73337147,\n",
       "        -0.5780101 ,  0.9171348 ],\n",
       "       [-0.03605887,  1.14830677, -1.38827017, ...,  1.73337147,\n",
       "        -0.5780101 , -1.09035226],\n",
       "       ...,\n",
       "       [ 0.34831977, -0.3705099 ,  0.33286815, ..., -0.57691038,\n",
       "        -0.5780101 ,  0.9171348 ],\n",
       "       [ 0.369097  , -0.46543595,  1.36555114, ..., -0.57691038,\n",
       "         1.73007358,  0.9171348 ],\n",
       "       [ 0.77425287, -1.22484428,  0.33286815, ..., -0.57691038,\n",
       "        -0.5780101 ,  0.9171348 ]])"
      ]
     },
     "execution_count": 162,
     "metadata": {},
     "output_type": "execute_result"
    }
   ],
   "source": [
    "from sklearn.preprocessing import StandardScaler\n",
    "scaler=StandardScaler()\n",
    "scaler.fit_transform(X_train)\n"
   ]
  },
  {
   "cell_type": "code",
   "execution_count": 163,
   "id": "9d2cd608",
   "metadata": {},
   "outputs": [
    {
     "data": {
      "text/plain": [
       "array([[ 0.69114397, -0.3705099 , -1.38827017, ..., -0.57691038,\n",
       "         1.73007358,  0.9171348 ],\n",
       "       [ 0.27559949,  3.14175366,  1.02132348, ..., -0.57691038,\n",
       "        -0.5780101 , -1.09035226],\n",
       "       [ 1.42873542, -0.56036199, -0.01135951, ..., -0.57691038,\n",
       "        -0.5780101 , -1.09035226],\n",
       "       ...,\n",
       "       [ 0.369097  , -1.31977033, -1.38827017, ..., -0.57691038,\n",
       "        -0.5780101 ,  0.9171348 ],\n",
       "       [-1.76056847, -1.0349922 ,  1.7097788 , ..., -0.57691038,\n",
       "        -0.5780101 , -1.09035226],\n",
       "       [ 0.369097  , -0.3705099 , -0.35558718, ..., -0.57691038,\n",
       "        -0.5780101 ,  0.9171348 ]])"
      ]
     },
     "execution_count": 163,
     "metadata": {},
     "output_type": "execute_result"
    }
   ],
   "source": [
    "scaler.transform(X_test)"
   ]
  },
  {
   "cell_type": "markdown",
   "id": "1058890d",
   "metadata": {},
   "source": [
    "# MODEL BUILDING"
   ]
  },
  {
   "cell_type": "code",
   "execution_count": 164,
   "id": "77b168eb",
   "metadata": {},
   "outputs": [],
   "source": [
    "from sklearn.ensemble import RandomForestClassifier\n",
    "from sklearn.tree import DecisionTreeClassifier\n",
    "from sklearn.linear_model import LogisticRegression\n",
    "from sklearn.neighbors import KNeighborsClassifier\n",
    "from sklearn.metrics import classification_report,precision_score,recall_score,f1_score,roc_auc_score,roc_curve,accuracy_score,confusion_matrix\n"
   ]
  },
  {
   "cell_type": "code",
   "execution_count": 165,
   "id": "6f1c9576",
   "metadata": {},
   "outputs": [
    {
     "name": "stdout",
     "output_type": "stream",
     "text": [
      "Logistic Regression\n",
      "Model Performance For training Set\n",
      "  Accuracy Score:0.7893\n",
      "  F1 Score:0.7222\n",
      "  Precision:0.4018\n",
      "  Recall:0.0615\n",
      "  ROC Auc  Score:0.5190\n",
      "------------------------------------------------------\n",
      "Model Performance For test Set\n",
      "  Accuracy Score:0.7907\n",
      "  F1 Score:0.7225\n",
      "  Precision:0.3678\n",
      "  Recall:0.0529\n",
      "  ROC Auc  Score:0.5150\n",
      "******************************************************\n",
      "\n",
      "\n",
      "Decision Tree\n",
      "Model Performance For training Set\n",
      "  Accuracy Score:1.0000\n",
      "  F1 Score:1.0000\n",
      "  Precision:1.0000\n",
      "  Recall:1.0000\n",
      "  ROC Auc  Score:1.0000\n",
      "------------------------------------------------------\n",
      "Model Performance For test Set\n",
      "  Accuracy Score:0.7750\n",
      "  F1 Score:0.7800\n",
      "  Precision:0.4488\n",
      "  Recall:0.5074\n",
      "  ROC Auc  Score:0.6750\n",
      "******************************************************\n",
      "\n",
      "\n",
      "Random Forest\n",
      "Model Performance For training Set\n",
      "  Accuracy Score:1.0000\n",
      "  F1 Score:1.0000\n",
      "  Precision:1.0000\n",
      "  Recall:1.0000\n",
      "  ROC Auc  Score:1.0000\n",
      "------------------------------------------------------\n",
      "Model Performance For test Set\n",
      "  Accuracy Score:0.8610\n",
      "  F1 Score:0.8482\n",
      "  Precision:0.7474\n",
      "  Recall:0.4694\n",
      "  ROC Auc  Score:0.7147\n",
      "******************************************************\n",
      "\n",
      "\n",
      "KNN\n",
      "Model Performance For training Set\n",
      "  Accuracy Score:0.8137\n",
      "  F1 Score:0.7789\n",
      "  Precision:0.6172\n",
      "  Recall:0.2353\n",
      "  ROC Auc  Score:0.5989\n",
      "------------------------------------------------------\n",
      "Model Performance For test Set\n",
      "  Accuracy Score:0.7667\n",
      "  F1 Score:0.7173\n",
      "  Precision:0.2637\n",
      "  Recall:0.0876\n",
      "  ROC Auc  Score:0.5129\n",
      "******************************************************\n",
      "\n",
      "\n",
      "SUMMARY OF ABOVE \n",
      "           Models          Training Accuracy  Test Accuracy\n",
      "0      LogisticRegression           0.789286       0.790667\n",
      "1  DecisionTreeClassifier           1.000000       0.775000\n",
      "2  RandomForestClassifier           1.000000       0.861000\n",
      "3    KNeighborsClassifier           0.813714       0.766667\n"
     ]
    }
   ],
   "source": [
    "c_old=[]\n",
    "d_old=[]\n",
    "models={\n",
    "    \"Logistic Regression\":LogisticRegression(),\n",
    "    \"Decision Tree\":DecisionTreeClassifier(),\n",
    "    \"Random Forest\": RandomForestClassifier(),\n",
    "    \"KNN\":KNeighborsClassifier()\n",
    "}\n",
    "for i in range(len(list(models))):\n",
    "    model=list(models.values())[i]\n",
    "    model.fit(X_train,y_train)\n",
    "    \n",
    "    # Making Prediction\n",
    "    y_train_pred=model.predict(X_train)\n",
    "    y_test_pred=model.predict(X_test)\n",
    "    \n",
    "    \n",
    "    #Training set Performance\n",
    "    old_model_train_accuracy=accuracy_score(y_train,y_train_pred)\n",
    "    old_model_train_f1=f1_score(y_train,y_train_pred,average=\"weighted\")\n",
    "    old_model_train_precision=precision_score(y_train,y_train_pred)\n",
    "    old_model_train_recall=recall_score(y_train,y_train_pred)\n",
    "    old_model_train_rocauc_score=roc_auc_score(y_train,y_train_pred)\n",
    "    \n",
    "    \n",
    "    \n",
    "    #test set performance\n",
    "      \n",
    "        \n",
    "    old_model_test_accuracy=accuracy_score(y_test,y_test_pred)\n",
    "    old_model_test_f1=f1_score(y_test,y_test_pred,average=\"weighted\")\n",
    "    old_model_test_precision=precision_score(y_test,y_test_pred)\n",
    "    old_model_test_recall=recall_score(y_test,y_test_pred)\n",
    "    old_model_test_rocauc_score=roc_auc_score(y_test,y_test_pred)\n",
    "    \n",
    "    print(list(models.keys())[i])\n",
    "    \n",
    "    print(\"Model Performance For training Set\")\n",
    "    print(\"  Accuracy Score:{:.4f}\".format(old_model_train_accuracy))\n",
    "    print(\"  F1 Score:{:.4f}\".format(old_model_train_f1))\n",
    "    print(\"  Precision:{:.4f}\".format(old_model_train_precision))\n",
    "    print(\"  Recall:{:.4f}\".format(old_model_train_recall))\n",
    "    print(\"  ROC Auc  Score:{:.4f}\".format(old_model_train_rocauc_score))\n",
    "    \n",
    "    print(\"------------------------------------------------------\")\n",
    "    \n",
    "    print(\"Model Performance For test Set\")\n",
    "    print(\"  Accuracy Score:{:.4f}\".format(old_model_test_accuracy))\n",
    "    print(\"  F1 Score:{:.4f}\".format(old_model_test_f1))\n",
    "    print(\"  Precision:{:.4f}\".format(old_model_test_precision))\n",
    "    print(\"  Recall:{:.4f}\".format(old_model_test_recall))\n",
    "    print(\"  ROC Auc  Score:{:.4f}\".format(old_model_test_rocauc_score))\n",
    "    \n",
    "    print(\"******************************************************\")\n",
    "    print('\\n')\n",
    "    c_old.append(old_model_train_accuracy)\n",
    "    d_old.append(old_model_test_accuracy)\n",
    "models_used=[\"LogisticRegression\",\"DecisionTreeClassifier\",\"RandomForestClassifier\",\"KNeighborsClassifier\"]\n",
    "data={'Models        ':models_used,'Training Accuracy':c_old,'Test Accuracy':d_old}\n",
    "df=pd.DataFrame(data)\n",
    "print(\"SUMMARY OF ABOVE \",)\n",
    "print(df)\n",
    "    \n",
    "    "
   ]
  },
  {
   "cell_type": "markdown",
   "id": "ccfbbb6f",
   "metadata": {},
   "source": [
    "# HYPERPARAMETER TUNING"
   ]
  },
  {
   "cell_type": "code",
   "execution_count": 75,
   "id": "c3526d1e",
   "metadata": {},
   "outputs": [],
   "source": [
    "rf_params={\"max_depth\":[5,8,13,None,10],\n",
    "          \"max_features\":[5,7,\"auto\",9,11,12],\n",
    "          \"min_samples_split\":[2,8,15,23],\n",
    "          \"n_estimators\":[1200,400,800,1000]}\n",
    "dt_params={\"max_depth\":[5,8,13,None,10],\n",
    "           \"max_features\":[5,7,\"auto\",9],\n",
    "           \"random_state\":[10,35,67,None],\n",
    "           \"max_leaf_nodes\":[6,8,9,None]}\n",
    "lg_params={\"C\":[0.01,0.1,1,10],\n",
    "           \"random_state\":[10,35,67,None],\n",
    "           \"max_iter\":[100,200,400,800]}\n",
    "knn_params={\"n_neighbors\":[15,25,30,35,40,45],\n",
    "            \"p\":[1,2],\n",
    "            \"n_jobs\":[-1,None]}"
   ]
  },
  {
   "cell_type": "code",
   "execution_count": 166,
   "id": "abea6a73",
   "metadata": {},
   "outputs": [],
   "source": [
    "randomcv_models=[(\"RANDOM FOREST\",RandomForestClassifier(),rf_params),\n",
    "                 (\"Decision Tree\",DecisionTreeClassifier(),dt_params),\n",
    "                (\"logistic\",LogisticRegression(),lg_params),\n",
    "                (\"knn\",KNeighborsClassifier(),knn_params)]"
   ]
  },
  {
   "cell_type": "code",
   "execution_count": 168,
   "id": "29e15c36",
   "metadata": {},
   "outputs": [
    {
     "data": {
      "text/plain": [
       "[('RANDOM FOREST',\n",
       "  RandomForestClassifier(),\n",
       "  {'max_depth': [5, 8, 13, None, 10],\n",
       "   'max_features': [5, 7, 'auto', 9, 11, 12],\n",
       "   'min_samples_split': [2, 8, 15, 23],\n",
       "   'n_estimators': [1200, 400, 800, 1000]}),\n",
       " ('Decision Tree',\n",
       "  DecisionTreeClassifier(),\n",
       "  {'max_depth': [5, 8, 13, None, 10],\n",
       "   'max_features': [5, 7, 'auto', 9],\n",
       "   'random_state': [10, 35, 67, None],\n",
       "   'max_leaf_nodes': [6, 8, 9, None]}),\n",
       " ('logistic',\n",
       "  LogisticRegression(),\n",
       "  {'C': [0.01, 0.1, 1, 10],\n",
       "   'random_state': [10, 35, 67, None],\n",
       "   'max_iter': [100, 200, 400, 800]}),\n",
       " ('knn',\n",
       "  KNeighborsClassifier(),\n",
       "  {'n_neighbors': [15, 25, 30, 35, 40, 45],\n",
       "   'p': [1, 2],\n",
       "   'n_jobs': [-1, None]})]"
      ]
     },
     "execution_count": 168,
     "metadata": {},
     "output_type": "execute_result"
    }
   ],
   "source": [
    "randomcv_models"
   ]
  },
  {
   "cell_type": "code",
   "execution_count": 169,
   "id": "5550a084",
   "metadata": {},
   "outputs": [
    {
     "name": "stdout",
     "output_type": "stream",
     "text": [
      "Fitting 3 folds for each of 100 candidates, totalling 300 fits\n"
     ]
    },
    {
     "name": "stderr",
     "output_type": "stream",
     "text": [
      "C:\\Users\\muska\\anaconda3\\lib\\site-packages\\sklearn\\model_selection\\_search.py:922: UserWarning: One or more of the test scores are non-finite: [0.85957206        nan 0.86128671 0.86114401 0.86357287 0.85728675\n",
      "        nan 0.85685812 0.86171491 0.85742963 0.85671524 0.86057238\n",
      " 0.86228704        nan        nan        nan 0.86328657        nan\n",
      " 0.85614379        nan 0.86300099 0.85842897 0.85557222 0.86328699\n",
      " 0.85671524 0.86371544 0.8644294  0.86342932 0.85628636 0.85214359\n",
      " 0.8614294  0.86257261 0.85971548 0.8634295  0.86100095 0.8615721\n",
      " 0.86128652 0.86200085 0.85742969 0.85257234 0.86314418 0.86242973\n",
      " 0.86157204 0.86014393 0.8617154         nan 0.86085783 0.85957218\n",
      " 0.86071538 0.86142934 0.8605722  0.8591433  0.86214404 0.86214367\n",
      " 0.85700099 0.85957236        nan 0.86314369        nan 0.86171571\n",
      " 0.86228685 0.86271536 0.86114408 0.85828659        nan 0.86185828\n",
      " 0.85685818 0.8615721  0.85785826 0.85914416 0.85757195 0.86057201\n",
      " 0.85685799 0.8605725         nan 0.86028687 0.85500083 0.8634292\n",
      "        nan 0.86085783 0.86157283 0.86142959        nan 0.85714344\n",
      " 0.86228673 0.85957248 0.85785814 0.85900073 0.85757244        nan\n",
      "        nan 0.85985787 0.85742963        nan 0.85757238 0.8585724\n",
      " 0.86228691 0.85142938        nan        nan]\n",
      "  warnings.warn(\n"
     ]
    },
    {
     "name": "stdout",
     "output_type": "stream",
     "text": [
      "Fitting 3 folds for each of 100 candidates, totalling 300 fits\n"
     ]
    },
    {
     "name": "stderr",
     "output_type": "stream",
     "text": [
      "C:\\Users\\muska\\anaconda3\\lib\\site-packages\\sklearn\\model_selection\\_search.py:285: UserWarning: The total space of parameters 64 is smaller than n_iter=100. Running 64 iterations. For exhaustive searches, use GridSearchCV.\n",
      "  warnings.warn(\n"
     ]
    },
    {
     "name": "stdout",
     "output_type": "stream",
     "text": [
      "Fitting 3 folds for each of 64 candidates, totalling 192 fits\n"
     ]
    },
    {
     "name": "stderr",
     "output_type": "stream",
     "text": [
      "C:\\Users\\muska\\anaconda3\\lib\\site-packages\\sklearn\\model_selection\\_search.py:285: UserWarning: The total space of parameters 24 is smaller than n_iter=100. Running 24 iterations. For exhaustive searches, use GridSearchCV.\n",
      "  warnings.warn(\n"
     ]
    },
    {
     "name": "stdout",
     "output_type": "stream",
     "text": [
      "Fitting 3 folds for each of 24 candidates, totalling 72 fits\n",
      "------------------best parameters for RANDOM FOREST----------\n",
      "{'n_estimators': 1200, 'min_samples_split': 2, 'max_features': 5, 'max_depth': 10}\n",
      "------------------best parameters for Decision Tree----------\n",
      "{'random_state': 35, 'max_leaf_nodes': 8, 'max_features': 5, 'max_depth': 10}\n",
      "------------------best parameters for logistic----------\n",
      "{'random_state': 10, 'max_iter': 100, 'C': 0.01}\n",
      "------------------best parameters for knn----------\n",
      "{'p': 1, 'n_neighbors': 30, 'n_jobs': -1}\n"
     ]
    }
   ],
   "source": [
    "from sklearn.model_selection import RandomizedSearchCV\n",
    "\n",
    "model_param={}\n",
    "for name,model,params in randomcv_models:\n",
    "    random=RandomizedSearchCV(estimator=model,param_distributions=params,n_iter=100,cv=3,verbose=2,n_jobs=-1)\n",
    "    random.fit(X_train,y_train)\n",
    "    model_param[name]=random.best_params_\n",
    "    \n",
    "for model_name in model_param:\n",
    "    print(f\"------------------best parameters for {model_name}----------\".format(model_name))\n",
    "    print(model_param[model_name])\n"
   ]
  },
  {
   "cell_type": "code",
   "execution_count": 40,
   "id": "0904955e",
   "metadata": {},
   "outputs": [
    {
     "name": "stdout",
     "output_type": "stream",
     "text": [
      "Logistic Regression\n",
      "Model Performance For training Set\n",
      "  Accuracy Score:0.7894\n",
      "  F1 Score:0.7223\n",
      "  Precision:0.4037\n",
      "  Recall:0.0615\n",
      "  ROC Auc  Score:0.5191\n",
      "------------------------------------------------------\n",
      "Model Performance For test Set\n",
      "  Accuracy Score:0.7903\n",
      "  F1 Score:0.7218\n",
      "  Precision:0.3605\n",
      "  Recall:0.0512\n",
      "  ROC Auc  Score:0.5141\n",
      "******************************************************\n",
      "\n",
      "\n",
      "Decision Tree\n",
      "Model Performance For training Set\n",
      "  Accuracy Score:0.8561\n",
      "  F1 Score:0.8462\n",
      "  Precision:0.7114\n",
      "  Recall:0.4993\n",
      "  ROC Auc  Score:0.7236\n",
      "------------------------------------------------------\n",
      "Model Performance For test Set\n",
      "  Accuracy Score:0.8533\n",
      "  F1 Score:0.8449\n",
      "  Precision:0.6829\n",
      "  Recall:0.5091\n",
      "  ROC Auc  Score:0.7247\n",
      "******************************************************\n",
      "\n",
      "\n",
      "Random Forest\n",
      "Model Performance For training Set\n",
      "  Accuracy Score:0.9577\n",
      "  F1 Score:0.9564\n",
      "  Precision:0.9686\n",
      "  Recall:0.8198\n",
      "  ROC Auc  Score:0.9065\n",
      "------------------------------------------------------\n",
      "Model Performance For test Set\n",
      "  Accuracy Score:0.8613\n",
      "  F1 Score:0.8520\n",
      "  Precision:0.7203\n",
      "  Recall:0.5107\n",
      "  ROC Auc  Score:0.7303\n",
      "******************************************************\n",
      "\n",
      "\n",
      "KNN\n",
      "Model Performance For training Set\n",
      "  Accuracy Score:0.7980\n",
      "  F1 Score:0.7198\n",
      "  Precision:0.6000\n",
      "  Recall:0.0377\n",
      "  ROC Auc  Score:0.5156\n",
      "------------------------------------------------------\n",
      "Model Performance For test Set\n",
      "  Accuracy Score:0.7927\n",
      "  F1 Score:0.7108\n",
      "  Precision:0.2424\n",
      "  Recall:0.0132\n",
      "  ROC Auc  Score:0.5014\n",
      "******************************************************\n",
      "\n",
      "\n",
      "SUMMARY OF ABOVE \n",
      "               Models      Train Accuracy  Test Accuracy\n",
      "0      LogisticRegression        0.789429       0.790333\n",
      "1  DecisionTreeClassifier        0.856143       0.853333\n",
      "2  RandomForestClassifier        0.957714       0.861333\n",
      "3    KNeighborsClassifier        0.798000       0.792667\n"
     ]
    }
   ],
   "source": [
    "c_new=[]\n",
    "d_new=[]\n",
    "models={\n",
    "    \"Logistic Regression\":LogisticRegression(random_state=10,max_iter=100,C=0.01),\n",
    "    \"Decision Tree\":DecisionTreeClassifier(random_state=35,max_leaf_nodes=None,max_features=9,max_depth=5),\n",
    "    \"Random Forest\": RandomForestClassifier(n_estimators=1200,min_samples_split=8,max_features=11,max_depth=None),\n",
    "    \"KNN\":KNeighborsClassifier(n_neighbors=15,p=1,n_jobs=-1)\n",
    "}\n",
    "for i in range(len(list(models))):\n",
    "    model=list(models.values())[i]\n",
    "    model.fit(X_train,y_train)\n",
    "    \n",
    "    # Making Prediction\n",
    "    y_train_pred=model.predict(X_train)\n",
    "    y_test_pred=model.predict(X_test)\n",
    "    \n",
    "    \n",
    "    #Training set Performance\n",
    "    new_model_train_accuracy=accuracy_score(y_train,y_train_pred)\n",
    "    new_model_train_f1=f1_score(y_train,y_train_pred,average=\"weighted\")\n",
    "    new_model_train_precision=precision_score(y_train,y_train_pred)\n",
    "    new_model_train_recall=recall_score(y_train,y_train_pred)\n",
    "    new_model_train_rocauc_score=roc_auc_score(y_train,y_train_pred)\n",
    "    \n",
    "    \n",
    "    \n",
    "    #test set performance\n",
    "      \n",
    "        \n",
    "    new_model_test_accuracy=accuracy_score(y_test,y_test_pred)\n",
    "    new_model_test_f1=f1_score(y_test,y_test_pred,average=\"weighted\")\n",
    "    new_model_test_precision=precision_score(y_test,y_test_pred)\n",
    "    new_model_test_recall=recall_score(y_test,y_test_pred)\n",
    "    new_model_test_rocauc_score=roc_auc_score(y_test,y_test_pred)\n",
    "    \n",
    "    print(list(models.keys())[i])\n",
    "    \n",
    "    print(\"Model Performance For training Set\")\n",
    "    print(\"  Accuracy Score:{:.4f}\".format(new_model_train_accuracy))\n",
    "    print(\"  F1 Score:{:.4f}\".format(new_model_train_f1))\n",
    "    print(\"  Precision:{:.4f}\".format(new_model_train_precision))\n",
    "    print(\"  Recall:{:.4f}\".format(new_model_train_recall))\n",
    "    print(\"  ROC Auc  Score:{:.4f}\".format(new_model_train_rocauc_score))\n",
    "    \n",
    "    print(\"------------------------------------------------------\")\n",
    "    \n",
    "    print(\"Model Performance For test Set\")\n",
    "    print(\"  Accuracy Score:{:.4f}\".format(new_model_test_accuracy))\n",
    "    print(\"  F1 Score:{:.4f}\".format(new_model_test_f1))\n",
    "    print(\"  Precision:{:.4f}\".format(new_model_test_precision))\n",
    "    print(\"  Recall:{:.4f}\".format(new_model_test_recall))\n",
    "    print(\"  ROC Auc  Score:{:.4f}\".format(new_model_test_rocauc_score))\n",
    "    \n",
    "    print(\"******************************************************\")\n",
    "    print('\\n')\n",
    "    c_new.append(new_model_train_accuracy)\n",
    "    d_new.append(new_model_test_accuracy)\n",
    "models_used=[\"LogisticRegression\",\"DecisionTreeClassifier\",\"RandomForestClassifier\",\"KNeighborsClassifier\"]\n",
    "data={'Models    ':models_used,'Train Accuracy':c_new,'Test Accuracy':d_new}\n",
    "df=pd.DataFrame(data)\n",
    "print(\"SUMMARY OF ABOVE \",)\n",
    "print(df)\n"
   ]
  },
  {
   "cell_type": "code",
   "execution_count": 125,
   "id": "1409203e",
   "metadata": {},
   "outputs": [
    {
     "name": "stdout",
     "output_type": "stream",
     "text": [
      "exited 0: (7963, 12)\n",
      "exited 1: (2037, 12)\n"
     ]
    }
   ],
   "source": [
    "# class count\n",
    "exited_count_0,exited_count_1 = df['Exited'].value_counts()\n",
    "\n",
    "# Separate class\n",
    "exited_0 = df[df['Exited'] == 0]\n",
    "exited_1 = df[df['Exited'] == 1]# print the shape of the class\n",
    "print('exited 0:', exited_0.shape)\n",
    "print('exited 1:', exited_1.shape)"
   ]
  },
  {
   "cell_type": "code",
   "execution_count": 129,
   "id": "0bc62f80",
   "metadata": {},
   "outputs": [
    {
     "name": "stdout",
     "output_type": "stream",
     "text": [
      "total class of 1 and 0: 1    7963\n",
      "0    7963\n",
      "Name: Exited, dtype: int64\n"
     ]
    },
    {
     "data": {
      "text/plain": [
       "<AxesSubplot:title={'center':'count (target)'}>"
      ]
     },
     "execution_count": 129,
     "metadata": {},
     "output_type": "execute_result"
    },
    {
     "data": {
      "image/png": "[encoded data removed]",
      "text/plain": [
       "<Figure size 432x288 with 1 Axes>"
      ]
     },
     "metadata": {
      "needs_background": "light"
     },
     "output_type": "display_data"
    }
   ],
   "source": [
    "exited_1_over = exited_1.sample(exited_count_0, replace=True)\n",
    "\n",
    "test_over = pd.concat([exited_1_over, exited_0], axis=0)\n",
    "\n",
    "print(\"total class of 1 and 0:\",test_over['Exited'].value_counts())# plot the count after under-sampeling\n",
    "test_over['Exited'].value_counts().plot(kind='bar', title='count (target)')"
   ]
  },
  {
   "cell_type": "code",
   "execution_count": 130,
   "id": "110486c3",
   "metadata": {},
   "outputs": [
    {
     "name": "stdout",
     "output_type": "stream",
     "text": [
      "Logistic Regression\n",
      "Model Performance For training Set\n",
      "  Accuracy Score:0.7893\n",
      "  F1 Score:0.7222\n",
      "  Precision:0.4018\n",
      "  Recall:0.0615\n",
      "  ROC Auc  Score:0.5190\n",
      "------------------------------------------------------\n",
      "Model Performance For test Set\n",
      "  Accuracy Score:0.7907\n",
      "  F1 Score:0.7225\n",
      "  Precision:0.3678\n",
      "  Recall:0.0529\n",
      "  ROC Auc  Score:0.5150\n",
      "******************************************************\n",
      "\n",
      "\n",
      "Decision Tree\n",
      "Model Performance For training Set\n",
      "  Accuracy Score:1.0000\n",
      "  F1 Score:1.0000\n",
      "  Precision:1.0000\n",
      "  Recall:1.0000\n",
      "  ROC Auc  Score:1.0000\n",
      "------------------------------------------------------\n",
      "Model Performance For test Set\n",
      "  Accuracy Score:0.7790\n",
      "  F1 Score:0.7848\n",
      "  Precision:0.4586\n",
      "  Recall:0.5306\n",
      "  ROC Auc  Score:0.6862\n",
      "******************************************************\n",
      "\n",
      "\n",
      "Random Forest\n",
      "Model Performance For training Set\n",
      "  Accuracy Score:1.0000\n",
      "  F1 Score:1.0000\n",
      "  Precision:1.0000\n",
      "  Recall:1.0000\n",
      "  ROC Auc  Score:1.0000\n",
      "------------------------------------------------------\n",
      "Model Performance For test Set\n",
      "  Accuracy Score:0.8627\n",
      "  F1 Score:0.8506\n",
      "  Precision:0.7494\n",
      "  Recall:0.4793\n",
      "  ROC Auc  Score:0.7194\n",
      "******************************************************\n",
      "\n",
      "\n",
      "KNN\n",
      "Model Performance For training Set\n",
      "  Accuracy Score:0.8137\n",
      "  F1 Score:0.7789\n",
      "  Precision:0.6172\n",
      "  Recall:0.2353\n",
      "  ROC Auc  Score:0.5989\n",
      "------------------------------------------------------\n",
      "Model Performance For test Set\n",
      "  Accuracy Score:0.7667\n",
      "  F1 Score:0.7173\n",
      "  Precision:0.2637\n",
      "  Recall:0.0876\n",
      "  ROC Auc  Score:0.5129\n",
      "******************************************************\n",
      "\n",
      "\n",
      "SUMMARY OF ABOVE \n",
      "           Models          Training Accuracy  Test Accuracy\n",
      "0      LogisticRegression           0.789286       0.790667\n",
      "1  DecisionTreeClassifier           1.000000       0.779000\n",
      "2  RandomForestClassifier           1.000000       0.862667\n",
      "3    KNeighborsClassifier           0.813714       0.766667\n"
     ]
    }
   ],
   "source": [
    "c_old=[]\n",
    "d_old=[]\n",
    "models={\n",
    "    \"Logistic Regression\":LogisticRegression(),\n",
    "    \"Decision Tree\":DecisionTreeClassifier(),\n",
    "    \"Random Forest\": RandomForestClassifier(),\n",
    "    \"KNN\":KNeighborsClassifier()\n",
    "}\n",
    "for i in range(len(list(models))):\n",
    "    model=list(models.values())[i]\n",
    "    model.fit(X_train,y_train)\n",
    "    \n",
    "    # Making Prediction\n",
    "    y_train_pred=model.predict(X_train)\n",
    "    y_test_pred=model.predict(X_test)\n",
    "    \n",
    "    \n",
    "    #Training set Performance\n",
    "    old_model_train_accuracy=accuracy_score(y_train,y_train_pred)\n",
    "    old_model_train_f1=f1_score(y_train,y_train_pred,average=\"weighted\")\n",
    "    old_model_train_precision=precision_score(y_train,y_train_pred)\n",
    "    old_model_train_recall=recall_score(y_train,y_train_pred)\n",
    "    old_model_train_rocauc_score=roc_auc_score(y_train,y_train_pred)\n",
    "    \n",
    "    \n",
    "    \n",
    "    #test set performance\n",
    "      \n",
    "        \n",
    "    old_model_test_accuracy=accuracy_score(y_test,y_test_pred)\n",
    "    old_model_test_f1=f1_score(y_test,y_test_pred,average=\"weighted\")\n",
    "    old_model_test_precision=precision_score(y_test,y_test_pred)\n",
    "    old_model_test_recall=recall_score(y_test,y_test_pred)\n",
    "    old_model_test_rocauc_score=roc_auc_score(y_test,y_test_pred)\n",
    "    \n",
    "    print(list(models.keys())[i])\n",
    "    \n",
    "    print(\"Model Performance For training Set\")\n",
    "    print(\"  Accuracy Score:{:.4f}\".format(old_model_train_accuracy))\n",
    "    print(\"  F1 Score:{:.4f}\".format(old_model_train_f1))\n",
    "    print(\"  Precision:{:.4f}\".format(old_model_train_precision))\n",
    "    print(\"  Recall:{:.4f}\".format(old_model_train_recall))\n",
    "    print(\"  ROC Auc  Score:{:.4f}\".format(old_model_train_rocauc_score))\n",
    "    \n",
    "    print(\"------------------------------------------------------\")\n",
    "    \n",
    "    print(\"Model Performance For test Set\")\n",
    "    print(\"  Accuracy Score:{:.4f}\".format(old_model_test_accuracy))\n",
    "    print(\"  F1 Score:{:.4f}\".format(old_model_test_f1))\n",
    "    print(\"  Precision:{:.4f}\".format(old_model_test_precision))\n",
    "    print(\"  Recall:{:.4f}\".format(old_model_test_recall))\n",
    "    print(\"  ROC Auc  Score:{:.4f}\".format(old_model_test_rocauc_score))\n",
    "    \n",
    "    print(\"******************************************************\")\n",
    "    print('\\n')\n",
    "    c_old.append(old_model_train_accuracy)\n",
    "    d_old.append(old_model_test_accuracy)\n",
    "models_used=[\"LogisticRegression\",\"DecisionTreeClassifier\",\"RandomForestClassifier\",\"KNeighborsClassifier\"]\n",
    "data={'Models        ':models_used,'Training Accuracy':c_old,'Test Accuracy':d_old}\n",
    "df=pd.DataFrame(data)\n",
    "print(\"SUMMARY OF ABOVE \",)\n",
    "print(df)\n",
    "    \n",
    "    "
   ]
  },
  {
   "cell_type": "code",
   "execution_count": 217,
   "id": "53292c28",
   "metadata": {},
   "outputs": [
    {
     "data": {
      "text/plain": [
       "<AxesSubplot:>"
      ]
     },
     "execution_count": 217,
     "metadata": {},
     "output_type": "execute_result"
    },
    {
     "data": {
      "image/png": "[encoded data removed]",
      "text/plain": [
       "<Figure size 432x288 with 2 Axes>"
      ]
     },
     "metadata": {
      "needs_background": "light"
     },
     "output_type": "display_data"
    }
   ],
   "source": [
    "rf = RandomForestClassifier(n_estimators=50)\n",
    "rf.fit(X_train, y_train)\n",
    "RandomForestClassifier(n_estimators=50)\n",
    "y_pred = rf.predict(X_test)\n",
    "cm = confusion_matrix(y_test, y_pred)\n",
    "sns.heatmap(cm, annot=True, fmt='.2f')"
   ]
  },
  {
   "cell_type": "code",
   "execution_count": 218,
   "id": "d7a70f78",
   "metadata": {},
   "outputs": [
    {
     "name": "stdout",
     "output_type": "stream",
     "text": [
      "              precision    recall  f1-score   support\n",
      "\n",
      "           0       0.88      0.96      0.92      2395\n",
      "           1       0.74      0.47      0.57       605\n",
      "\n",
      "    accuracy                           0.86      3000\n",
      "   macro avg       0.81      0.71      0.74      3000\n",
      "weighted avg       0.85      0.86      0.85      3000\n",
      "\n"
     ]
    }
   ],
   "source": [
    "print(classification_report(y_test, y_pred))"
   ]
  },
  {
   "cell_type": "code",
   "execution_count": null,
   "id": "e52491a5",
   "metadata": {},
   "outputs": [],
   "source": []
  }
 ],
 "metadata": {
  "kernelspec": {
   "display_name": "Python 3 (ipykernel)",
   "language": "python",
   "name": "python3"
  },
  "language_info": {
   "codemirror_mode": {
    "name": "ipython",
    "version": 3
   },
   "file_extension": ".py",
   "mimetype": "text/x-python",
   "name": "python",
   "nbconvert_exporter": "python",
   "pygments_lexer": "ipython3",
   "version": "3.9.7"
  }
 },
 "nbformat": 4,
 "nbformat_minor": 5
}
